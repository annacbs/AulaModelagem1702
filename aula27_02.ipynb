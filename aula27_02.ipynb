{
  "nbformat": 4,
  "nbformat_minor": 0,
  "metadata": {
    "colab": {
      "provenance": [],
      "authorship_tag": "ABX9TyPT1gYr1uM47t1WrxcV2xMQ",
      "include_colab_link": true
    },
    "kernelspec": {
      "name": "python3",
      "display_name": "Python 3"
    },
    "language_info": {
      "name": "python"
    }
  },
  "cells": [
    {
      "cell_type": "markdown",
      "metadata": {
        "id": "view-in-github",
        "colab_type": "text"
      },
      "source": [
        "<a href=\"https://colab.research.google.com/github/annacbs/AulaModelagem1702/blob/main/aula27_02.ipynb\" target=\"_parent\"><img src=\"https://colab.research.google.com/assets/colab-badge.svg\" alt=\"Open In Colab\"/></a>"
      ]
    },
    {
      "cell_type": "code",
      "execution_count": 20,
      "metadata": {
        "colab": {
          "base_uri": "https://localhost:8080/"
        },
        "id": "c1i6a_WtfZG2",
        "outputId": "c53ac964-02a5-4b56-ac42-a029fa248378"
      },
      "outputs": [
        {
          "output_type": "stream",
          "name": "stdout",
          "text": [
            "3\n",
            "6\n",
            "1.5 2.5 3.0 2.25\n"
          ]
        }
      ],
      "source": [
        "x = 3\n",
        "print(x)\n",
        "# print(type(x))\n",
        "# y = 1.5\n",
        "# print(type(y))\n",
        "# print(x**2)\n",
        "# x+=1\n",
        "# print(x)\n",
        "x*=2\n",
        "print(x)\n",
        "x==6\n",
        "print(y, y+1, y*2, y**2)"
      ]
    },
    {
      "cell_type": "code",
      "source": [],
      "metadata": {
        "id": "9CJcotYbhEVT"
      },
      "execution_count": null,
      "outputs": []
    }
  ]
}