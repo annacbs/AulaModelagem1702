{
  "nbformat": 4,
  "nbformat_minor": 0,
  "metadata": {
    "colab": {
      "provenance": [],
      "authorship_tag": "ABX9TyP4azcS0BHeNti7W0h0JhhD",
      "include_colab_link": true
    },
    "kernelspec": {
      "name": "python3",
      "display_name": "Python 3"
    },
    "language_info": {
      "name": "python"
    }
  },
  "cells": [
    {
      "cell_type": "markdown",
      "metadata": {
        "id": "view-in-github",
        "colab_type": "text"
      },
      "source": [
        "<a href=\"https://colab.research.google.com/github/annacbs/AulaModelagem1702/blob/main/aula27_02.ipynb\" target=\"_parent\"><img src=\"https://colab.research.google.com/assets/colab-badge.svg\" alt=\"Open In Colab\"/></a>"
      ]
    },
    {
      "cell_type": "code",
      "execution_count": 20,
      "metadata": {
        "colab": {
          "base_uri": "https://localhost:8080/"
        },
        "id": "c1i6a_WtfZG2",
        "outputId": "c53ac964-02a5-4b56-ac42-a029fa248378"
      },
      "outputs": [
        {
          "output_type": "stream",
          "name": "stdout",
          "text": [
            "3\n",
            "6\n",
            "1.5 2.5 3.0 2.25\n"
          ]
        }
      ],
      "source": [
        "x = 3\n",
        "print(x)\n",
        "# print(type(x))\n",
        "# y = 1.5\n",
        "# print(type(y))\n",
        "# print(x**2)\n",
        "# x+=1\n",
        "# print(x)\n",
        "x*=2\n",
        "print(x)\n",
        "x==6\n",
        "print(y, y+1, y*2, y**2)"
      ]
    },
    {
      "cell_type": "code",
      "source": [
        "t = True\n",
        "f = False\n",
        "print(type(t))\n",
        "print(t and f)\n",
        "print(t or f)\n",
        "print(not t)\n",
        "print(t != f)\n",
        "# &&, ||, !\n"
      ],
      "metadata": {
        "colab": {
          "base_uri": "https://localhost:8080/"
        },
        "id": "xA-2PNQ6zcQy",
        "outputId": "8e5813ed-bee6-4589-9a93-3ea3f457adb8"
      },
      "execution_count": 29,
      "outputs": [
        {
          "output_type": "stream",
          "name": "stdout",
          "text": [
            "<class 'bool'>\n",
            "False\n",
            "True\n",
            "False\n",
            "True\n"
          ]
        }
      ]
    },
    {
      "cell_type": "code",
      "source": [
        "# funções\n",
        "def soma(a,b):\n",
        "  c = a + b\n",
        "  return c\n",
        "\n",
        "soma(5, 4)\n"
      ],
      "metadata": {
        "colab": {
          "base_uri": "https://localhost:8080/"
        },
        "id": "EqbiyhtY0zdb",
        "outputId": "72771efd-a366-4357-f3cf-05b87a6dc141"
      },
      "execution_count": 32,
      "outputs": [
        {
          "output_type": "execute_result",
          "data": {
            "text/plain": [
              "9"
            ]
          },
          "metadata": {},
          "execution_count": 32
        }
      ]
    },
    {
      "cell_type": "code",
      "source": [
        "def leitura():\n",
        "  nome = input(\"digite seu nome.\")\n",
        "  sobrenome = input(\"digite seu sobrenome.\")\n",
        "  nomeCompleto = nome + \" \" + sobrenome\n",
        "  print(\"Seu nome completo é: \", nomeCompleto)\n",
        "\n",
        "leitura()\n",
        "\n",
        "# input so pode ser string"
      ],
      "metadata": {
        "colab": {
          "base_uri": "https://localhost:8080/"
        },
        "id": "LcTb370g2FYr",
        "outputId": "ccf1a28f-1e09-4b87-dfb6-fdce9046ba95"
      },
      "execution_count": 34,
      "outputs": [
        {
          "output_type": "stream",
          "name": "stdout",
          "text": [
            "digite seu nome.Anna Claudia\n",
            "digite seu sobrenome.Barros Silveira\n",
            "Seu nome completo é:  Anna Claudia Barros Silveira\n"
          ]
        }
      ]
    },
    {
      "cell_type": "code",
      "source": [
        "def potencia(a,b):\n",
        "  c = a**b\n",
        "  return c\n",
        "\n",
        "x = int(input(\"digite um valor: \"))\n",
        "y = int(input(\"digite o valor da potência: \"))\n",
        "\n",
        "print(\"O resultado é: \", potencia(x,y))"
      ],
      "metadata": {
        "colab": {
          "base_uri": "https://localhost:8080/"
        },
        "id": "_HfBUPvU3gNR",
        "outputId": "781c626c-937d-43e4-955f-9a7424305c8d"
      },
      "execution_count": 37,
      "outputs": [
        {
          "output_type": "stream",
          "name": "stdout",
          "text": [
            "digite um valor: 3\n",
            "digite o valor da potência: 2\n",
            "O resultado é:  9\n"
          ]
        }
      ]
    },
    {
      "cell_type": "code",
      "source": [
        "def areaTriangulo(base,altura):\n",
        "    area = base * altura / 2\n",
        "    return area\n",
        "\n",
        "base = float(input(\"digite a base do triângulo: \"))\n",
        "altura = float(input(\"digite a altura do triângulo: \"))\n",
        "\n",
        "print(\"A área do triângulo é: \", areaTriangulo(base,altura))\n"
      ],
      "metadata": {
        "colab": {
          "base_uri": "https://localhost:8080/"
        },
        "id": "7gxiKyNg4dB0",
        "outputId": "31597f3c-c06f-469d-f7bb-9bbdabffec96"
      },
      "execution_count": 41,
      "outputs": [
        {
          "output_type": "stream",
          "name": "stdout",
          "text": [
            "digite a base do triângulo: 4\n",
            "digite a altura do triângulo: 6\n",
            "A área do triângulo é:  12.0\n"
          ]
        }
      ]
    },
    {
      "cell_type": "code",
      "source": [
        "def area_cilindro(raio, altura):\n",
        "  area = 2 * 3.14 * raio * (raio + altura)\n",
        "  return area\n",
        "\n",
        "raio = float(input(\"Digite o raio do cilindro: \"))\n",
        "altura = float(input(\"Digite a altura do cilindro: \"))\n",
        "\n",
        "print(\"A área do cilindro é:\", area_cilindro(raio, altura))\n"
      ],
      "metadata": {
        "colab": {
          "base_uri": "https://localhost:8080/"
        },
        "id": "RzOfW5lK8bsP",
        "outputId": "019a90a8-1850-4367-8ea9-22f10f5fffe7"
      },
      "execution_count": 42,
      "outputs": [
        {
          "output_type": "stream",
          "name": "stdout",
          "text": [
            "Digite o raio do cilindro: 4\n",
            "Digite a altura do cilindro: 2\n",
            "A área do cilindro é: 150.72\n"
          ]
        }
      ]
    }
  ]
}